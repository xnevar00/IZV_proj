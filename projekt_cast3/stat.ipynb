{
 "cells": [
  {
   "cell_type": "markdown",
   "metadata": {},
   "source": [
    "## Test hypotézy\n",
    "\n",
    "Autor: Veronika Nevařilová (xnevar00)"
   ]
  },
  {
   "cell_type": "code",
   "execution_count": 10,
   "metadata": {},
   "outputs": [],
   "source": [
    "import pandas as pd\n",
    "from scipy.stats import chi2_contingency, mannwhitneyu"
   ]
  },
  {
   "cell_type": "markdown",
   "metadata": {},
   "source": [
    "#### Načtění dataframu:"
   ]
  },
  {
   "cell_type": "code",
   "execution_count": 11,
   "metadata": {},
   "outputs": [],
   "source": [
    "df = pd.read_pickle('./accidents.pkl.gz', compression='gzip')"
   ]
  },
  {
   "cell_type": "markdown",
   "metadata": {},
   "source": [
    "#### Hypotéza 1\n",
    "\n",
    "Ověřujeme hypotézu: Na silnicích první třídy se při nehodách umíralo se stejnou pravděpodobností jako na\n",
    "silnicích třetí třídy."
   ]
  },
  {
   "cell_type": "markdown",
   "metadata": {},
   "source": [
    "Vyfiltrujeme dataframe pouze na záznamy nehod ze silnic 1. a 3. tříd."
   ]
  },
  {
   "cell_type": "code",
   "execution_count": 12,
   "metadata": {},
   "outputs": [],
   "source": [
    "hypothesis1 = df.copy()\n",
    "hypothesis1 = hypothesis1[(hypothesis1['p36'] == 1) | (hypothesis1['p36'] == 3)]"
   ]
  },
  {
   "cell_type": "markdown",
   "metadata": {},
   "source": [
    "Vytvoříme kontingenční tabulku, která říká, na jaké třídě silnice se nehoda stala a jestli při ní někdo zemřel."
   ]
  },
  {
   "cell_type": "code",
   "execution_count": 13,
   "metadata": {},
   "outputs": [],
   "source": [
    "contingency_table = pd.crosstab(\n",
    "    hypothesis1['p36'],\n",
    "    hypothesis1['p13a'] > 0,\n",
    ")"
   ]
  },
  {
   "cell_type": "markdown",
   "metadata": {},
   "source": [
    "Provedeme test k ověření hypotézy."
   ]
  },
  {
   "cell_type": "code",
   "execution_count": 14,
   "metadata": {},
   "outputs": [],
   "source": [
    "chi2, p, dof, expected = chi2_contingency(contingency_table)"
   ]
  },
  {
   "cell_type": "markdown",
   "metadata": {},
   "source": [
    "Vyhodnocení testu na základě výsledku p-hodnoty.\n",
    "\n",
    "Podle toho, jak se realita fatálních nehod na silnicích 1. tříd liší od očekávaného výsledku určíme, zda tyto nehody vedly k fatální nehodě častěji či méně často."
   ]
  },
  {
   "cell_type": "code",
   "execution_count": 15,
   "metadata": {},
   "outputs": [
    {
     "name": "stdout",
     "output_type": "stream",
     "text": [
      "Zamítáme nulovou hypotézu, existuje významný rozdíl v úmrtí při nehodě na silnici první a třetí třídy.\n",
      "Nehody na silnicích 1. třídy vedly častěji k fatální nehodě.\n"
     ]
    }
   ],
   "source": [
    "chi2, p, dof, expected = chi2_contingency(contingency_table)\n",
    "\n",
    "if p < 0.05:\n",
    "    print(\"Zamítáme nulovou hypotézu, existuje významný rozdíl v úmrtí při nehodě na silnici první a třetí třídy.\")\n",
    "else:\n",
    "    print(\"Nezamítáme nulovou hypotézu\")\n",
    "\n",
    "if (contingency_table.iloc[0, 1] > expected[0][1]):\n",
    "    print(\"Nehody na silnicích 1. třídy vedly častěji k fatální nehodě.\")\n",
    "elif (contingency_table.iloc[0, 1] < expected[0][1]):\n",
    "    print(\"Nehody na silnicích 1. třídy vedly méně často k fatální nehodě.\")"
   ]
  },
  {
   "cell_type": "markdown",
   "metadata": {},
   "source": [
    "Z výsledků jsme zjistili, že existuje významný rozdíl v úmrtí při nehodě na silnici 1. a 3. třídy. Zamítáme tedy nulovou hypotézu.\n",
    "\n",
    "Nehody na silnicích 1. třídy vedly častěji k fatální nehodě."
   ]
  },
  {
   "cell_type": "markdown",
   "metadata": {},
   "source": [
    "#### Hypotéza 2\n",
    "\n",
    "Ověřujeme hypotézu: Při nehodách vozidel značky Škoda je škoda na vozidle nižší než při nehodách vozidel Audi."
   ]
  },
  {
   "cell_type": "markdown",
   "metadata": {},
   "source": [
    "Získáme data o velikosti škod na autech značky Škoda a Audi."
   ]
  },
  {
   "cell_type": "code",
   "execution_count": 16,
   "metadata": {},
   "outputs": [],
   "source": [
    "hypothesis2 = df.copy()\n",
    "\n",
    "skoda_data = hypothesis2[hypothesis2['p45a'] == 39]['p53'] # 39 == Skoda\n",
    "audi_data = hypothesis2[hypothesis2['p45a'] == 2]['p53']   #  2 == Audi"
   ]
  },
  {
   "cell_type": "markdown",
   "metadata": {},
   "source": [
    "Provedení hypotézy pomocí Mann-Whitney U-Testu.\n",
    "\n",
    "Tento test bere jako nulovou hypotézu to, že škody jsou na obou značkách aut přibližně stejné.\n",
    "\n",
    "Pomocí `alternative='less'` zjistíme, zda jsou škody na autech značky Škoda nižší než na autech značky Audi."
   ]
  },
  {
   "cell_type": "code",
   "execution_count": 17,
   "metadata": {},
   "outputs": [
    {
     "name": "stdout",
     "output_type": "stream",
     "text": [
      "p-hodnota: 2.2769982682161945e-220\n",
      "Škody na vozidlech značky Škoda jsou nižší než škody na vozidlech značky Audi. Tato vlastnost je na požadované hladině významnosti.\n"
     ]
    }
   ],
   "source": [
    "u_stat, p_value = mannwhitneyu(skoda_data, audi_data, alternative='less')   # we want to know if the damage on Skoda cars is less than on Audi\n",
    "\n",
    "print(\"p-hodnota:\", p_value)\n",
    "\n",
    "if(p_value < 0.05):\n",
    "    print(\"Škody na vozidlech značky Škoda jsou nižší než škody na vozidlech značky Audi. Tato vlastnost je na požadované hladině významnosti.\")\n",
    "else:\n",
    "    print(\"Nezamítáme hypotézu, že škody na obou značkách aut jsou přibližně stejné.\")"
   ]
  },
  {
   "cell_type": "markdown",
   "metadata": {},
   "source": [
    "Zjistili jsme, že škody na vozidlech značky Škoda jsou nižší než škody na vozidlech značky Audi. Zamítáme tedy nulovou hypotézu, že škody na obou značkách aut jsou přibližně srovnatelné."
   ]
  }
 ],
 "metadata": {
  "kernelspec": {
   "display_name": "skola",
   "language": "python",
   "name": "python3"
  },
  "language_info": {
   "codemirror_mode": {
    "name": "ipython",
    "version": 3
   },
   "file_extension": ".py",
   "mimetype": "text/x-python",
   "name": "python",
   "nbconvert_exporter": "python",
   "pygments_lexer": "ipython3",
   "version": "3.11.5"
  }
 },
 "nbformat": 4,
 "nbformat_minor": 2
}
